{
 "cells": [
  {
   "cell_type": "markdown",
   "metadata": {},
   "source": [
    "2. Подумайте, как повлияет на дизайн и организацию АБ-теста проведение одновременно с тестом акции на проекте, в рамках которой игрокам определенного уровня буду предложены ценные предметы по скидкам, что должно само по себе улучшить вовлеченность аудитории и может повлиять на отток?"
   ]
  },
  {
   "cell_type": "markdown",
   "metadata": {},
   "source": [
    "Мне кажется лучше переждать, данные могут быть сильно искажены новыми факторами"
   ]
  },
  {
   "cell_type": "markdown",
   "metadata": {},
   "source": [
    "3. Что делать, если в ходе оценки бизнес эффекта полученное значение RevenueBoost < 0?"
   ]
  },
  {
   "cell_type": "markdown",
   "metadata": {},
   "source": [
    "Значит компании эта улучшение принисет не прибыль а отток средств, возможно стоит прерсмотреть модель и дисконт"
   ]
  }
 ],
 "metadata": {
  "kernelspec": {
   "display_name": "Python 3",
   "language": "python",
   "name": "python3"
  },
  "language_info": {
   "codemirror_mode": {
    "name": "ipython",
    "version": 3
   },
   "file_extension": ".py",
   "mimetype": "text/x-python",
   "name": "python",
   "nbconvert_exporter": "python",
   "pygments_lexer": "ipython3",
   "version": "3.7.1"
  }
 },
 "nbformat": 4,
 "nbformat_minor": 2
}
